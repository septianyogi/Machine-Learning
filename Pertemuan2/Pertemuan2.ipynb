{
  "nbformat": 4,
  "nbformat_minor": 0,
  "metadata": {
    "colab": {
      "provenance": [],
      "authorship_tag": "ABX9TyOM7j6pDJJ6SC3hD8QIvOYc",
      "include_colab_link": true
    },
    "kernelspec": {
      "name": "python3",
      "display_name": "Python 3"
    },
    "language_info": {
      "name": "python"
    },
    "accelerator": "GPU",
    "gpuClass": "standard"
  },
  "cells": [
    {
      "cell_type": "markdown",
      "metadata": {
        "id": "view-in-github",
        "colab_type": "text"
      },
      "source": [
        "<a href=\"https://colab.research.google.com/github/septianyogi/Machine-Learning/blob/main/Pertemuan2/Pertemuan2.ipynb\" target=\"_parent\"><img src=\"https://colab.research.google.com/assets/colab-badge.svg\" alt=\"Open In Colab\"/></a>"
      ]
    },
    {
      "cell_type": "code",
      "execution_count": 38,
      "metadata": {
        "id": "dSESTCwrGoki"
      },
      "outputs": [],
      "source": [
        "import pandas as pd\n",
        "import numpy as np"
      ]
    },
    {
      "cell_type": "code",
      "source": [
        "df = pd.read_csv(\"/content/apartemen2.csv\")\n",
        "print(df)"
      ],
      "metadata": {
        "colab": {
          "base_uri": "https://localhost:8080/"
        },
        "id": "Z4ux22-zH4Gn",
        "outputId": "e0797b39-dc6e-49fc-ccd2-769adacc35b1"
      },
      "execution_count": 39,
      "outputs": [
        {
          "output_type": "stream",
          "name": "stdout",
          "text": [
            "   KodeApt   Wilayah St_Milik Jum_Kamar\n",
            "0    104.0    Bantul        Y         3\n",
            "1    197.0    Sleman        N         3\n",
            "2      NaN    Sleman        N       NaN\n",
            "3    201.0     Yogya       12         1\n",
            "4    203.0     Yogya        Y         3\n",
            "5    207.0     Yogya        Y       NaN\n",
            "6      NaN  KL-Progo      NaN         2\n",
            "7    213.0    Bantul        Y        --\n",
            "8    215.0    Bantul        Y        na\n"
          ]
        }
      ]
    },
    {
      "cell_type": "markdown",
      "source": [
        "**cek adakah data null. jika ada berapa jumlahnya**"
      ],
      "metadata": {
        "id": "xOBfBWSGIpSm"
      }
    },
    {
      "cell_type": "code",
      "source": [
        "# cek ada missing values\n",
        "df.isnull().values.any()"
      ],
      "metadata": {
        "colab": {
          "base_uri": "https://localhost:8080/"
        },
        "id": "E-kbTIcVI3OV",
        "outputId": "f7a8ca09-6403-4e0e-8b97-c99d005961a9"
      },
      "execution_count": 40,
      "outputs": [
        {
          "output_type": "execute_result",
          "data": {
            "text/plain": [
              "True"
            ]
          },
          "metadata": {},
          "execution_count": 40
        }
      ]
    },
    {
      "cell_type": "code",
      "source": [
        "# banyaknya missing values\n",
        "df.isnull().sum().sum()"
      ],
      "metadata": {
        "colab": {
          "base_uri": "https://localhost:8080/"
        },
        "id": "3IxnwRFqJaMd",
        "outputId": "d92a93e8-0e7b-4877-9954-c11242e89987"
      },
      "execution_count": 41,
      "outputs": [
        {
          "output_type": "execute_result",
          "data": {
            "text/plain": [
              "5"
            ]
          },
          "metadata": {},
          "execution_count": 41
        }
      ]
    },
    {
      "cell_type": "code",
      "source": [
        "# melihat kolom kodeapt\n",
        "df['KodeApt']"
      ],
      "metadata": {
        "colab": {
          "base_uri": "https://localhost:8080/"
        },
        "id": "KM6DfgCOKLFO",
        "outputId": "9fb5897e-fff6-4ed3-c9a4-5db7ff521e82"
      },
      "execution_count": 42,
      "outputs": [
        {
          "output_type": "execute_result",
          "data": {
            "text/plain": [
              "0    104.0\n",
              "1    197.0\n",
              "2      NaN\n",
              "3    201.0\n",
              "4    203.0\n",
              "5    207.0\n",
              "6      NaN\n",
              "7    213.0\n",
              "8    215.0\n",
              "Name: KodeApt, dtype: float64"
            ]
          },
          "metadata": {},
          "execution_count": 42
        }
      ]
    },
    {
      "cell_type": "code",
      "source": [
        "df['KodeApt'].isnull()"
      ],
      "metadata": {
        "colab": {
          "base_uri": "https://localhost:8080/"
        },
        "id": "EeQ56t9eKqdU",
        "outputId": "095fdf3b-1c51-4985-b828-18c33672bb81"
      },
      "execution_count": 43,
      "outputs": [
        {
          "output_type": "execute_result",
          "data": {
            "text/plain": [
              "0    False\n",
              "1    False\n",
              "2     True\n",
              "3    False\n",
              "4    False\n",
              "5    False\n",
              "6     True\n",
              "7    False\n",
              "8    False\n",
              "Name: KodeApt, dtype: bool"
            ]
          },
          "metadata": {},
          "execution_count": 43
        }
      ]
    },
    {
      "cell_type": "code",
      "source": [
        "# melihat data pada kolom jum_kamar dan mengecek data null ada kolom tersebut\n",
        "df['Jum_Kamar']"
      ],
      "metadata": {
        "colab": {
          "base_uri": "https://localhost:8080/"
        },
        "id": "aLVP_QNzLCvW",
        "outputId": "84e6f7c5-500c-4fc5-a883-7a0d7352f948"
      },
      "execution_count": 44,
      "outputs": [
        {
          "output_type": "execute_result",
          "data": {
            "text/plain": [
              "0      3\n",
              "1      3\n",
              "2    NaN\n",
              "3      1\n",
              "4      3\n",
              "5    NaN\n",
              "6      2\n",
              "7     --\n",
              "8     na\n",
              "Name: Jum_Kamar, dtype: object"
            ]
          },
          "metadata": {},
          "execution_count": 44
        }
      ]
    },
    {
      "cell_type": "code",
      "source": [
        "df['Jum_Kamar'].isnull()"
      ],
      "metadata": {
        "colab": {
          "base_uri": "https://localhost:8080/"
        },
        "id": "PzMPGwnfMBWj",
        "outputId": "27c07118-0bc6-4ce8-e4fe-bdcb2778cbb3"
      },
      "execution_count": 45,
      "outputs": [
        {
          "output_type": "execute_result",
          "data": {
            "text/plain": [
              "0    False\n",
              "1    False\n",
              "2     True\n",
              "3    False\n",
              "4    False\n",
              "5     True\n",
              "6    False\n",
              "7    False\n",
              "8    False\n",
              "Name: Jum_Kamar, dtype: bool"
            ]
          },
          "metadata": {},
          "execution_count": 45
        }
      ]
    },
    {
      "cell_type": "code",
      "source": [
        "# membuat daftar missing values dan cek kemnali data pada kolom jum_kamar (no 7 dan no 8). apa artinya?\n",
        "# membuat daftar missing values\n",
        "missing_values = [\"n/a\", \"na\", \"--\"]\n",
        "df = pd.read_csv(\"/content/apartemen2.csv\", na_values = missing_values)\n",
        "df['Jum_Kamar']"
      ],
      "metadata": {
        "colab": {
          "base_uri": "https://localhost:8080/"
        },
        "id": "t6nEAyiLPOxg",
        "outputId": "0e98846a-9830-4b0d-ae31-27955de615f3"
      },
      "execution_count": 46,
      "outputs": [
        {
          "output_type": "execute_result",
          "data": {
            "text/plain": [
              "0    3.0\n",
              "1    3.0\n",
              "2    NaN\n",
              "3    1.0\n",
              "4    3.0\n",
              "5    NaN\n",
              "6    2.0\n",
              "7    NaN\n",
              "8    NaN\n",
              "Name: Jum_Kamar, dtype: float64"
            ]
          },
          "metadata": {},
          "execution_count": 46
        }
      ]
    },
    {
      "cell_type": "code",
      "source": [
        "df['Jum_Kamar'].isnull()"
      ],
      "metadata": {
        "colab": {
          "base_uri": "https://localhost:8080/"
        },
        "id": "DYcow2yMQ-fi",
        "outputId": "4c531414-c490-4400-8478-cc31e5901d4a"
      },
      "execution_count": 47,
      "outputs": [
        {
          "output_type": "execute_result",
          "data": {
            "text/plain": [
              "0    False\n",
              "1    False\n",
              "2     True\n",
              "3    False\n",
              "4    False\n",
              "5     True\n",
              "6    False\n",
              "7     True\n",
              "8     True\n",
              "Name: Jum_Kamar, dtype: bool"
            ]
          },
          "metadata": {},
          "execution_count": 47
        }
      ]
    },
    {
      "cell_type": "code",
      "source": [
        "# membuat daftar missing values dan cek data pada kolom St_Milik (no 3). apa artinya ?\n",
        "df['St_Milik']"
      ],
      "metadata": {
        "colab": {
          "base_uri": "https://localhost:8080/"
        },
        "id": "H-UE40HQRNEU",
        "outputId": "9868e424-e4fe-4cae-e989-cd398fd3c80b"
      },
      "execution_count": 48,
      "outputs": [
        {
          "output_type": "execute_result",
          "data": {
            "text/plain": [
              "0      Y\n",
              "1      N\n",
              "2      N\n",
              "3     12\n",
              "4      Y\n",
              "5      Y\n",
              "6    NaN\n",
              "7      Y\n",
              "8      Y\n",
              "Name: St_Milik, dtype: object"
            ]
          },
          "metadata": {},
          "execution_count": 48
        }
      ]
    },
    {
      "cell_type": "code",
      "source": [
        "df['St_Milik'].isnull()"
      ],
      "metadata": {
        "colab": {
          "base_uri": "https://localhost:8080/"
        },
        "id": "nZae2BNvR-nT",
        "outputId": "c6be6604-3e7f-4d99-a3f6-9b35ff69f771"
      },
      "execution_count": 49,
      "outputs": [
        {
          "output_type": "execute_result",
          "data": {
            "text/plain": [
              "0    False\n",
              "1    False\n",
              "2    False\n",
              "3    False\n",
              "4    False\n",
              "5    False\n",
              "6     True\n",
              "7    False\n",
              "8    False\n",
              "Name: St_Milik, dtype: bool"
            ]
          },
          "metadata": {},
          "execution_count": 49
        }
      ]
    },
    {
      "cell_type": "code",
      "source": [
        "# hitung kembali total missing values pada setiap kolom \n",
        "df.isnull().sum()"
      ],
      "metadata": {
        "colab": {
          "base_uri": "https://localhost:8080/"
        },
        "id": "3QF9NfvkSN8z",
        "outputId": "6d10d61e-bfdf-42b6-a4c9-74ca67e6ff9b"
      },
      "execution_count": 50,
      "outputs": [
        {
          "output_type": "execute_result",
          "data": {
            "text/plain": [
              "KodeApt      2\n",
              "Wilayah      0\n",
              "St_Milik     1\n",
              "Jum_Kamar    4\n",
              "dtype: int64"
            ]
          },
          "metadata": {},
          "execution_count": 50
        }
      ]
    },
    {
      "cell_type": "code",
      "source": [
        "# banyaknya missing values \n",
        "df.isnull().sum().sum()"
      ],
      "metadata": {
        "colab": {
          "base_uri": "https://localhost:8080/"
        },
        "id": "KSPnr4VdSlL4",
        "outputId": "7e671f02-8877-4c0d-cfba-697f24c1a338"
      },
      "execution_count": 51,
      "outputs": [
        {
          "output_type": "execute_result",
          "data": {
            "text/plain": [
              "7"
            ]
          },
          "metadata": {},
          "execution_count": 51
        }
      ]
    },
    {
      "cell_type": "code",
      "source": [
        "# mengisi missing values dengan angka pada lokasi yang spesifik\n",
        "# mengganti missing values dengan sebuah angka\n",
        "df['KodeApt'].fillna(837, inplace=True)\n",
        "print(df.KodeApt)\n",
        "# mengganti pada lokasi spesifik\n",
        "df.loc[2, 'KodeApt'] = 8837\n",
        "print(df.KodeApt)"
      ],
      "metadata": {
        "colab": {
          "base_uri": "https://localhost:8080/"
        },
        "id": "J749HcSHS60k",
        "outputId": "ba706650-6519-4647-f031-3754473b8f50"
      },
      "execution_count": 52,
      "outputs": [
        {
          "output_type": "stream",
          "name": "stdout",
          "text": [
            "0    104.0\n",
            "1    197.0\n",
            "2    837.0\n",
            "3    201.0\n",
            "4    203.0\n",
            "5    207.0\n",
            "6    837.0\n",
            "7    213.0\n",
            "8    215.0\n",
            "Name: KodeApt, dtype: float64\n",
            "0     104.0\n",
            "1     197.0\n",
            "2    8837.0\n",
            "3     201.0\n",
            "4     203.0\n",
            "5     207.0\n",
            "6     837.0\n",
            "7     213.0\n",
            "8     215.0\n",
            "Name: KodeApt, dtype: float64\n"
          ]
        }
      ]
    },
    {
      "cell_type": "code",
      "source": [
        "# mengisi missing values dengan nilai median\n",
        "#mengganti missing values dengan median \n",
        "median = df['Jum_Kamar'].median()\n",
        "df['Jum_Kamar'].fillna(median, inplace=True)\n",
        "print(df.Jum_Kamar)"
      ],
      "metadata": {
        "colab": {
          "base_uri": "https://localhost:8080/"
        },
        "id": "7SCnhK8oUi5g",
        "outputId": "4908e203-c094-48ec-a064-29c92a55cbf6"
      },
      "execution_count": 57,
      "outputs": [
        {
          "output_type": "stream",
          "name": "stdout",
          "text": [
            "0    3.0\n",
            "1    3.0\n",
            "2    3.0\n",
            "3    1.0\n",
            "4    3.0\n",
            "5    3.0\n",
            "6    2.0\n",
            "7    3.0\n",
            "8    3.0\n",
            "Name: Jum_Kamar, dtype: float64\n"
          ]
        }
      ]
    },
    {
      "cell_type": "code",
      "source": [
        "print(df)"
      ],
      "metadata": {
        "colab": {
          "base_uri": "https://localhost:8080/"
        },
        "id": "_2NPkZDXWFMa",
        "outputId": "d18d219b-e0df-4499-ec6f-4863de727b7b"
      },
      "execution_count": 58,
      "outputs": [
        {
          "output_type": "stream",
          "name": "stdout",
          "text": [
            "   KodeApt   Wilayah St_Milik  Jum_Kamar\n",
            "0    104.0    Bantul        Y        3.0\n",
            "1    197.0    Sleman        N        3.0\n",
            "2   8837.0    Sleman        N        3.0\n",
            "3    201.0     Yogya        N        1.0\n",
            "4    203.0     Yogya        Y        3.0\n",
            "5    207.0     Yogya        Y        3.0\n",
            "6    837.0  KL-Progo        Y        2.0\n",
            "7    213.0    Bantul        Y        3.0\n",
            "8    215.0    Bantul        Y        3.0\n"
          ]
        }
      ]
    },
    {
      "cell_type": "code",
      "source": [
        "#mengganti data non numerik pada lokasi yang spesifik\n",
        "# mengganti pada lokasi spesifik pada kolom St_Milik\n",
        "df.loc[3, 'St_Milik'] = 'N'\n",
        "df.loc[6, 'St_Milik'] = 'Y'\n",
        "print(df)"
      ],
      "metadata": {
        "colab": {
          "base_uri": "https://localhost:8080/"
        },
        "id": "4x0QF7rdWHc2",
        "outputId": "5756596e-1253-4552-9cad-49f67ca1497e"
      },
      "execution_count": 59,
      "outputs": [
        {
          "output_type": "stream",
          "name": "stdout",
          "text": [
            "   KodeApt   Wilayah St_Milik  Jum_Kamar\n",
            "0    104.0    Bantul        Y        3.0\n",
            "1    197.0    Sleman        N        3.0\n",
            "2   8837.0    Sleman        N        3.0\n",
            "3    201.0     Yogya        N        1.0\n",
            "4    203.0     Yogya        Y        3.0\n",
            "5    207.0     Yogya        Y        3.0\n",
            "6    837.0  KL-Progo        Y        2.0\n",
            "7    213.0    Bantul        Y        3.0\n",
            "8    215.0    Bantul        Y        3.0\n"
          ]
        }
      ]
    },
    {
      "cell_type": "code",
      "source": [
        "df.to_csv('/content/Apartement_ok.csv')"
      ],
      "metadata": {
        "id": "TXh5uHmnX0kH"
      },
      "execution_count": 60,
      "outputs": []
    },
    {
      "cell_type": "code",
      "source": [
        "# mengubah data non numerik menjadi numerik\n",
        "# Library\n",
        "from sklearn.preprocessing import LabelEncoder\n",
        "from pandas import DataFrame\n",
        "# mengosongkan df dengan cara mengimportkan\n",
        "import pandas as pd\n",
        "import numpy as np\n",
        "# baca file\n",
        "df = pd.read_csv('/content/Apartement_ok.csv')\n",
        "# melihat semua isi data\n",
        "print(df)\n",
        "le = LabelEncoder()\n",
        "for col in df.columns.values:\n",
        "  #encoding pada variable kategorial\n",
        "  if df[col].dtypes == 'object':\n",
        "    data=df[col].append(df[col])\n",
        "    le.fit(data.values)\n",
        "    df[col]=le.transform(df[col])\n",
        "df.head(10)"
      ],
      "metadata": {
        "colab": {
          "base_uri": "https://localhost:8080/",
          "height": 505
        },
        "id": "CVr5cu9qYoTu",
        "outputId": "6ed73ae1-12e4-440b-cb2e-e8f0cb1cd8bd"
      },
      "execution_count": 64,
      "outputs": [
        {
          "output_type": "stream",
          "name": "stdout",
          "text": [
            "   Unnamed: 0  KodeApt   Wilayah St_Milik  Jum_Kamar\n",
            "0           0    104.0    Bantul        Y        3.0\n",
            "1           1    197.0    Sleman        N        3.0\n",
            "2           2   8837.0    Sleman        N        3.0\n",
            "3           3    201.0     Yogya        N        1.0\n",
            "4           4    203.0     Yogya        Y        3.0\n",
            "5           5    207.0     Yogya        Y        3.0\n",
            "6           6    837.0  KL-Progo        Y        2.0\n",
            "7           7    213.0    Bantul        Y        3.0\n",
            "8           8    215.0    Bantul        Y        3.0\n"
          ]
        },
        {
          "output_type": "execute_result",
          "data": {
            "text/plain": [
              "   Unnamed: 0  KodeApt  Wilayah  St_Milik  Jum_Kamar\n",
              "0           0    104.0        0         1        3.0\n",
              "1           1    197.0        2         0        3.0\n",
              "2           2   8837.0        2         0        3.0\n",
              "3           3    201.0        3         0        1.0\n",
              "4           4    203.0        3         1        3.0\n",
              "5           5    207.0        3         1        3.0\n",
              "6           6    837.0        1         1        2.0\n",
              "7           7    213.0        0         1        3.0\n",
              "8           8    215.0        0         1        3.0"
            ],
            "text/html": [
              "\n",
              "  <div id=\"df-e3eb0378-051e-453c-9796-0e6e317698a6\">\n",
              "    <div class=\"colab-df-container\">\n",
              "      <div>\n",
              "<style scoped>\n",
              "    .dataframe tbody tr th:only-of-type {\n",
              "        vertical-align: middle;\n",
              "    }\n",
              "\n",
              "    .dataframe tbody tr th {\n",
              "        vertical-align: top;\n",
              "    }\n",
              "\n",
              "    .dataframe thead th {\n",
              "        text-align: right;\n",
              "    }\n",
              "</style>\n",
              "<table border=\"1\" class=\"dataframe\">\n",
              "  <thead>\n",
              "    <tr style=\"text-align: right;\">\n",
              "      <th></th>\n",
              "      <th>Unnamed: 0</th>\n",
              "      <th>KodeApt</th>\n",
              "      <th>Wilayah</th>\n",
              "      <th>St_Milik</th>\n",
              "      <th>Jum_Kamar</th>\n",
              "    </tr>\n",
              "  </thead>\n",
              "  <tbody>\n",
              "    <tr>\n",
              "      <th>0</th>\n",
              "      <td>0</td>\n",
              "      <td>104.0</td>\n",
              "      <td>0</td>\n",
              "      <td>1</td>\n",
              "      <td>3.0</td>\n",
              "    </tr>\n",
              "    <tr>\n",
              "      <th>1</th>\n",
              "      <td>1</td>\n",
              "      <td>197.0</td>\n",
              "      <td>2</td>\n",
              "      <td>0</td>\n",
              "      <td>3.0</td>\n",
              "    </tr>\n",
              "    <tr>\n",
              "      <th>2</th>\n",
              "      <td>2</td>\n",
              "      <td>8837.0</td>\n",
              "      <td>2</td>\n",
              "      <td>0</td>\n",
              "      <td>3.0</td>\n",
              "    </tr>\n",
              "    <tr>\n",
              "      <th>3</th>\n",
              "      <td>3</td>\n",
              "      <td>201.0</td>\n",
              "      <td>3</td>\n",
              "      <td>0</td>\n",
              "      <td>1.0</td>\n",
              "    </tr>\n",
              "    <tr>\n",
              "      <th>4</th>\n",
              "      <td>4</td>\n",
              "      <td>203.0</td>\n",
              "      <td>3</td>\n",
              "      <td>1</td>\n",
              "      <td>3.0</td>\n",
              "    </tr>\n",
              "    <tr>\n",
              "      <th>5</th>\n",
              "      <td>5</td>\n",
              "      <td>207.0</td>\n",
              "      <td>3</td>\n",
              "      <td>1</td>\n",
              "      <td>3.0</td>\n",
              "    </tr>\n",
              "    <tr>\n",
              "      <th>6</th>\n",
              "      <td>6</td>\n",
              "      <td>837.0</td>\n",
              "      <td>1</td>\n",
              "      <td>1</td>\n",
              "      <td>2.0</td>\n",
              "    </tr>\n",
              "    <tr>\n",
              "      <th>7</th>\n",
              "      <td>7</td>\n",
              "      <td>213.0</td>\n",
              "      <td>0</td>\n",
              "      <td>1</td>\n",
              "      <td>3.0</td>\n",
              "    </tr>\n",
              "    <tr>\n",
              "      <th>8</th>\n",
              "      <td>8</td>\n",
              "      <td>215.0</td>\n",
              "      <td>0</td>\n",
              "      <td>1</td>\n",
              "      <td>3.0</td>\n",
              "    </tr>\n",
              "  </tbody>\n",
              "</table>\n",
              "</div>\n",
              "      <button class=\"colab-df-convert\" onclick=\"convertToInteractive('df-e3eb0378-051e-453c-9796-0e6e317698a6')\"\n",
              "              title=\"Convert this dataframe to an interactive table.\"\n",
              "              style=\"display:none;\">\n",
              "        \n",
              "  <svg xmlns=\"http://www.w3.org/2000/svg\" height=\"24px\"viewBox=\"0 0 24 24\"\n",
              "       width=\"24px\">\n",
              "    <path d=\"M0 0h24v24H0V0z\" fill=\"none\"/>\n",
              "    <path d=\"M18.56 5.44l.94 2.06.94-2.06 2.06-.94-2.06-.94-.94-2.06-.94 2.06-2.06.94zm-11 1L8.5 8.5l.94-2.06 2.06-.94-2.06-.94L8.5 2.5l-.94 2.06-2.06.94zm10 10l.94 2.06.94-2.06 2.06-.94-2.06-.94-.94-2.06-.94 2.06-2.06.94z\"/><path d=\"M17.41 7.96l-1.37-1.37c-.4-.4-.92-.59-1.43-.59-.52 0-1.04.2-1.43.59L10.3 9.45l-7.72 7.72c-.78.78-.78 2.05 0 2.83L4 21.41c.39.39.9.59 1.41.59.51 0 1.02-.2 1.41-.59l7.78-7.78 2.81-2.81c.8-.78.8-2.07 0-2.86zM5.41 20L4 18.59l7.72-7.72 1.47 1.35L5.41 20z\"/>\n",
              "  </svg>\n",
              "      </button>\n",
              "      \n",
              "  <style>\n",
              "    .colab-df-container {\n",
              "      display:flex;\n",
              "      flex-wrap:wrap;\n",
              "      gap: 12px;\n",
              "    }\n",
              "\n",
              "    .colab-df-convert {\n",
              "      background-color: #E8F0FE;\n",
              "      border: none;\n",
              "      border-radius: 50%;\n",
              "      cursor: pointer;\n",
              "      display: none;\n",
              "      fill: #1967D2;\n",
              "      height: 32px;\n",
              "      padding: 0 0 0 0;\n",
              "      width: 32px;\n",
              "    }\n",
              "\n",
              "    .colab-df-convert:hover {\n",
              "      background-color: #E2EBFA;\n",
              "      box-shadow: 0px 1px 2px rgba(60, 64, 67, 0.3), 0px 1px 3px 1px rgba(60, 64, 67, 0.15);\n",
              "      fill: #174EA6;\n",
              "    }\n",
              "\n",
              "    [theme=dark] .colab-df-convert {\n",
              "      background-color: #3B4455;\n",
              "      fill: #D2E3FC;\n",
              "    }\n",
              "\n",
              "    [theme=dark] .colab-df-convert:hover {\n",
              "      background-color: #434B5C;\n",
              "      box-shadow: 0px 1px 3px 1px rgba(0, 0, 0, 0.15);\n",
              "      filter: drop-shadow(0px 1px 2px rgba(0, 0, 0, 0.3));\n",
              "      fill: #FFFFFF;\n",
              "    }\n",
              "  </style>\n",
              "\n",
              "      <script>\n",
              "        const buttonEl =\n",
              "          document.querySelector('#df-e3eb0378-051e-453c-9796-0e6e317698a6 button.colab-df-convert');\n",
              "        buttonEl.style.display =\n",
              "          google.colab.kernel.accessAllowed ? 'block' : 'none';\n",
              "\n",
              "        async function convertToInteractive(key) {\n",
              "          const element = document.querySelector('#df-e3eb0378-051e-453c-9796-0e6e317698a6');\n",
              "          const dataTable =\n",
              "            await google.colab.kernel.invokeFunction('convertToInteractive',\n",
              "                                                     [key], {});\n",
              "          if (!dataTable) return;\n",
              "\n",
              "          const docLinkHtml = 'Like what you see? Visit the ' +\n",
              "            '<a target=\"_blank\" href=https://colab.research.google.com/notebooks/data_table.ipynb>data table notebook</a>'\n",
              "            + ' to learn more about interactive tables.';\n",
              "          element.innerHTML = '';\n",
              "          dataTable['output_type'] = 'display_data';\n",
              "          await google.colab.output.renderOutput(dataTable, element);\n",
              "          const docLink = document.createElement('div');\n",
              "          docLink.innerHTML = docLinkHtml;\n",
              "          element.appendChild(docLink);\n",
              "        }\n",
              "      </script>\n",
              "    </div>\n",
              "  </div>\n",
              "  "
            ]
          },
          "metadata": {},
          "execution_count": 64
        }
      ]
    },
    {
      "cell_type": "code",
      "source": [
        "df.to_csv('content/Apartement_numerik.csv')"
      ],
      "metadata": {
        "id": "3gENG-kmaV11"
      },
      "execution_count": null,
      "outputs": []
    }
  ]
}